{
 "cells": [
  {
   "cell_type": "markdown",
   "metadata": {},
   "source": [
    "# Practica 2 - Ejercicio 10 \n",
    "Explicacion del ejercicio 2 de la practica 10 para la entrega"
   ]
  },
  {
   "cell_type": "markdown",
   "metadata": {},
   "source": [
    "## Transformar\n",
    "En este modulo sew transforman las listas de los valores de las notas de \"Strings\" a \"Int\" para poder luego sumarlas y sacar el promedio de las 2"
   ]
  },
  {
   "cell_type": "code",
   "execution_count": null,
   "metadata": {},
   "outputs": [],
   "source": [
    "promedio = lambda x,y: (x + y) / 2\n",
    "n_1f = list(map(int, n_1))\n",
    "n_2f = list(map(int, n_2))\n",
    "n_f = []\n",
    "for i in range(len(n_1)):\n",
    "    n_f.append(promedio(n_1f[i],n_2f[i]))\n",
    "return n_f"
   ]
  },
  {
   "cell_type": "markdown",
   "metadata": {},
   "source": [
    "## Listar\n",
    "El modulo se encarga de transformar los archivos en listas limpiando los datos almacenados en la lista de caracteres indeseados como \",\", \"'\" y  \"\\n\""
   ]
  },
  {
   "cell_type": "code",
   "execution_count": null,
   "metadata": {},
   "outputs": [],
   "source": [
    "aux = []\n",
    "for i in arch.readlines():\n",
    "    aux.append(i.replace(\",\",\"\").replace(\"'\",\"\").replace(\"\\n\",\"\"))\n",
    "return aux"
   ]
  },
  {
   "cell_type": "markdown",
   "metadata": {},
   "source": [
    "## Merge\n",
    "Este mismo es el encargado de transfromar la lista de nombres con la lista de promedios de los alumnos en una estructura de tipo lista de diccionarios"
   ]
  },
  {
   "cell_type": "code",
   "execution_count": null,
   "metadata": {},
   "outputs": [],
   "source": [
    "n_f = {}\n",
    "for i in range(len(nota_final)):\n",
    "    n_f[nombre[i]] = nota_final[i]\n",
    "return  n_f"
   ]
  },
  {
   "cell_type": "markdown",
   "metadata": {},
   "source": [
    "## Imprimir\n",
    "En este modulo se desarrolla las funciones para imprimir los alumnos con promedio inforior al promedio general, los cuales estan almacenados en una estructura de tipo lista de diccionarios"
   ]
  },
  {
   "cell_type": "code",
   "execution_count": null,
   "metadata": {},
   "outputs": [],
   "source": [
    "for nombre,nota in estructura.items():\n",
    "    if (nota < prom_general):\n",
    "        print(f\"Nombre: {nombre} \\nPromedio: {nota}\")\n",
    "        print('*' * 30 )"
   ]
  },
  {
   "cell_type": "markdown",
   "metadata": {},
   "source": [
    "## Main\n",
    "Este es la principal parte del programa donde se desarrollaran todas las funciones necesarias para resolver el programa, por ejemplo:\n",
    "* listar\n",
    "* transfromar\n",
    "* merge\n",
    "* imprimir"
   ]
  },
  {
   "cell_type": "code",
   "execution_count": null,
   "metadata": {},
   "outputs": [],
   "source": [
    "with open(\"nombres_1.txt\",\"r\",encoding=\"utf-8\") as nombres:\n",
    "    nom = listar(nombres)\n",
    "with open(\"eval1.txt\",\"r\",encoding=\"utf-8\") as  notas_1:\n",
    "        n_1 = listar(notas_1)\n",
    "with open(\"eval2.txt\",\"r\",encoding=\"utf-8\") as notas_2:\n",
    "    n_2 = listar(notas_2)\n",
    "n_final = transformar(n_1,n_2)\n",
    "fin = sum(n_final)\n",
    "general = (fin / len(n_final))\n",
    "estructura = merge(n_final,nom)\n",
    "imprimir(estructura,general)"
   ]
  }
 ],
 "metadata": {
  "language_info": {
   "name": "python"
  },
  "orig_nbformat": 4
 },
 "nbformat": 4,
 "nbformat_minor": 2
}
